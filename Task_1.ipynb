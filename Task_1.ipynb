{
 "cells": [
  {
   "cell_type": "code",
   "execution_count": 1,
   "metadata": {},
   "outputs": [],
   "source": [
    "import re\n",
    "import time\n",
    "import numpy as np\n",
    "import scipy.stats as st\n",
    "import matplotlib.pyplot as plt\n",
    "import seaborn as sns\n",
    "import pandas as pd\n",
    "from sklearn.metrics import accuracy_score, f1_score, precision_score, recall_score, classification_report, confusion_matrix, mean_squared_error\n",
    "import math\n",
    "from sklearn.model_selection import cross_val_score, KFold, GridSearchCV\n",
    "from sklearn.preprocessing import LabelEncoder\n",
    "\n",
    "from sklearn.ensemble import GradientBoostingRegressor\n",
    "from catboost import CatBoostRegressor\n",
    "from lightgbm import LGBMRegressor\n",
    "from xgboost import XGBClassifier, plot_importance\n",
    "from sklearn.tree import DecisionTreeClassifier\n",
    "from sklearn.linear_model import LinearRegression, Lasso, Ridge, BayesianRidge, LogisticRegression\n",
    "from xgboost import XGBRegressor\n",
    "from sklearn.svm import SVR\n",
    "from sklearn.ensemble import RandomForestRegressor\n",
    "from sklearn.neighbors import KNeighborsRegressor\n",
    "from sklearn.ensemble import AdaBoostRegressor\n",
    "from sklearn.ensemble import ExtraTreesRegressor\n",
    "\n",
    "import Task_data_handler as Th\n",
    "\n",
    "pd.set_option('display.max_columns', None)\n",
    "pd.set_option('display.max_rows', None)"
   ]
  },
  {
   "cell_type": "code",
   "execution_count": 2,
   "metadata": {},
   "outputs": [],
   "source": [
    "# Determining number of values\n",
    "# training = pd.read_csv('ML5G-PS-005/ML5G-PS-005_train.csv')\n",
    "# test = pd.read_csv('ML5G-PS-005/ML5G-PS-005_test.csv')\n",
    "\n",
    "# numbers = []\n",
    "# for i in range(len(training)):\n",
    "#     if training.iloc[i]['amf.amf.app.five-g.RM.RegInitFail'] not in numbers:\n",
    "#         numbers.append(training.iloc[i]['amf.amf.app.five-g.RM.RegInitFail'])\n",
    "\n",
    "# for i in range(len(test)):\n",
    "#     if test.iloc[i]['amf.amf.app.five-g.RM.RegInitFail'] not in numbers:\n",
    "#         numbers.append(test.iloc[i]['amf.amf.app.five-g.RM.RegInitFail'])\n",
    "# numbers.sort()\n",
    "# print(numbers)"
   ]
  },
  {
   "cell_type": "code",
   "execution_count": 26,
   "metadata": {},
   "outputs": [
    {
     "name": "stdout",
     "output_type": "stream",
     "text": [
      "(900, 3325) (900,) (900,) 600\n"
     ]
    }
   ],
   "source": [
    "time_t = 10\n",
    "df, target, label, train_size = Th.get_df_preprocessed(time_limit=time_t)\n",
    "df = df.rename(columns = lambda x:re.sub('[^A-Za-z0-9_]+', '', x)) # to avoid column name error\n",
    "print(df.shape, target.shape, label.shape, train_size)"
   ]
  },
  {
   "cell_type": "code",
   "execution_count": 27,
   "metadata": {},
   "outputs": [
    {
     "name": "stdout",
     "output_type": "stream",
     "text": [
      "(600, 3325) (300, 3325) (600,)\n"
     ]
    }
   ],
   "source": [
    "X_train, y_train, X_test, y_test, train_label, test_label = Th.split(df, target, label, train_size)\n",
    "print(X_train.shape, X_test.shape, train_label.shape)"
   ]
  },
  {
   "cell_type": "code",
   "execution_count": 28,
   "metadata": {},
   "outputs": [
    {
     "name": "stdout",
     "output_type": "stream",
     "text": [
      "10\n",
      "normal: 450      abnormal: 150\n"
     ]
    }
   ],
   "source": [
    "normal_data = pd.DataFrame(columns=['Detection time', 'amf.amf.app.five-g.RM.RegInitFail'])\n",
    "abnormal_data = pd.DataFrame(columns=['Detection time', 'amf.amf.app.five-g.RM.RegInitFail'])\n",
    "\n",
    "\n",
    "# for i in range(8, 21):\n",
    "#     time_t = i\n",
    "#     df, target, label, train_size = Th.get_df_preprocessed(time_limit=time_t)\n",
    "#     df = df.rename(columns = lambda x:re.sub('[^A-Za-z0-9_]+', '', x))\n",
    "#     X_train, y_train, X_test, y_test, train_label, test_label = Th.split(df, target, label, train_size)\n",
    "\n",
    "\n",
    "for i in range(len(X_train)):\n",
    "    tmp_df = pd.DataFrame([[time_t, y_train.iloc[i]]], \n",
    "        columns=['Detection time', 'amf.amf.app.five-g.RM.RegInitFail'])\n",
    "    if train_label.iloc[i] == 'normal':\n",
    "        normal_data = pd.concat([normal_data, tmp_df], ignore_index=True)\n",
    "    else:\n",
    "        abnormal_data = pd.concat([abnormal_data, tmp_df], ignore_index=True)\n",
    "print(time_t)\n",
    "print('normal: {}      abnormal: {}'.format(len(normal_data), len(abnormal_data)))"
   ]
  },
  {
   "cell_type": "code",
   "execution_count": 29,
   "metadata": {},
   "outputs": [
    {
     "data": {
      "text/html": [
       "<div>\n",
       "<style scoped>\n",
       "    .dataframe tbody tr th:only-of-type {\n",
       "        vertical-align: middle;\n",
       "    }\n",
       "\n",
       "    .dataframe tbody tr th {\n",
       "        vertical-align: top;\n",
       "    }\n",
       "\n",
       "    .dataframe thead th {\n",
       "        text-align: right;\n",
       "    }\n",
       "</style>\n",
       "<table border=\"1\" class=\"dataframe\">\n",
       "  <thead>\n",
       "    <tr style=\"text-align: right;\">\n",
       "      <th></th>\n",
       "      <th>amf.amf.app.five-g.RM.RegInitFail</th>\n",
       "    </tr>\n",
       "  </thead>\n",
       "  <tbody>\n",
       "    <tr>\n",
       "      <th>count</th>\n",
       "      <td>450.000000</td>\n",
       "    </tr>\n",
       "    <tr>\n",
       "      <th>mean</th>\n",
       "      <td>0.900000</td>\n",
       "    </tr>\n",
       "    <tr>\n",
       "      <th>std</th>\n",
       "      <td>1.287684</td>\n",
       "    </tr>\n",
       "    <tr>\n",
       "      <th>min</th>\n",
       "      <td>0.000000</td>\n",
       "    </tr>\n",
       "    <tr>\n",
       "      <th>25%</th>\n",
       "      <td>0.000000</td>\n",
       "    </tr>\n",
       "    <tr>\n",
       "      <th>50%</th>\n",
       "      <td>0.000000</td>\n",
       "    </tr>\n",
       "    <tr>\n",
       "      <th>75%</th>\n",
       "      <td>2.000000</td>\n",
       "    </tr>\n",
       "    <tr>\n",
       "      <th>max</th>\n",
       "      <td>9.000000</td>\n",
       "    </tr>\n",
       "  </tbody>\n",
       "</table>\n",
       "</div>"
      ],
      "text/plain": [
       "       amf.amf.app.five-g.RM.RegInitFail\n",
       "count                         450.000000\n",
       "mean                            0.900000\n",
       "std                             1.287684\n",
       "min                             0.000000\n",
       "25%                             0.000000\n",
       "50%                             0.000000\n",
       "75%                             2.000000\n",
       "max                             9.000000"
      ]
     },
     "execution_count": 29,
     "metadata": {},
     "output_type": "execute_result"
    }
   ],
   "source": [
    "normal_data.describe()\n",
    "# normal_data = normal_data.sort_values('amf.amf.app.five-g.RM.RegInitFail', ascending=False)"
   ]
  },
  {
   "cell_type": "code",
   "execution_count": 30,
   "metadata": {},
   "outputs": [
    {
     "data": {
      "text/html": [
       "<div>\n",
       "<style scoped>\n",
       "    .dataframe tbody tr th:only-of-type {\n",
       "        vertical-align: middle;\n",
       "    }\n",
       "\n",
       "    .dataframe tbody tr th {\n",
       "        vertical-align: top;\n",
       "    }\n",
       "\n",
       "    .dataframe thead th {\n",
       "        text-align: right;\n",
       "    }\n",
       "</style>\n",
       "<table border=\"1\" class=\"dataframe\">\n",
       "  <thead>\n",
       "    <tr style=\"text-align: right;\">\n",
       "      <th></th>\n",
       "      <th>amf.amf.app.five-g.RM.RegInitFail</th>\n",
       "    </tr>\n",
       "  </thead>\n",
       "  <tbody>\n",
       "    <tr>\n",
       "      <th>count</th>\n",
       "      <td>150.000000</td>\n",
       "    </tr>\n",
       "    <tr>\n",
       "      <th>mean</th>\n",
       "      <td>1.000000</td>\n",
       "    </tr>\n",
       "    <tr>\n",
       "      <th>std</th>\n",
       "      <td>1.331094</td>\n",
       "    </tr>\n",
       "    <tr>\n",
       "      <th>min</th>\n",
       "      <td>0.000000</td>\n",
       "    </tr>\n",
       "    <tr>\n",
       "      <th>25%</th>\n",
       "      <td>0.000000</td>\n",
       "    </tr>\n",
       "    <tr>\n",
       "      <th>50%</th>\n",
       "      <td>0.000000</td>\n",
       "    </tr>\n",
       "    <tr>\n",
       "      <th>75%</th>\n",
       "      <td>2.000000</td>\n",
       "    </tr>\n",
       "    <tr>\n",
       "      <th>max</th>\n",
       "      <td>8.000000</td>\n",
       "    </tr>\n",
       "  </tbody>\n",
       "</table>\n",
       "</div>"
      ],
      "text/plain": [
       "       amf.amf.app.five-g.RM.RegInitFail\n",
       "count                         150.000000\n",
       "mean                            1.000000\n",
       "std                             1.331094\n",
       "min                             0.000000\n",
       "25%                             0.000000\n",
       "50%                             0.000000\n",
       "75%                             2.000000\n",
       "max                             8.000000"
      ]
     },
     "execution_count": 30,
     "metadata": {},
     "output_type": "execute_result"
    }
   ],
   "source": [
    "abnormal_data.describe()\n",
    "# abnormal_data = abnormal_data.sort_values('amf.amf.app.five-g.RM.RegInitFail', ascending=False)"
   ]
  },
  {
   "cell_type": "code",
   "execution_count": 31,
   "metadata": {},
   "outputs": [],
   "source": [
    "# sns.lineplot(x=abnormal_data['Detection time'], y=abnormal_data['amf.amf.app.five-g.RM.RegInitFail'], label='abnormal', color='red');\n",
    "# sns.lineplot(x=normal_data['Detection time'], y=normal_data['amf.amf.app.five-g.RM.RegInitFail'], color='green', label='Normal');\n",
    "# plt.legend(loc='upper left')\n",
    "# plt.title('Target Variable against detection time for normal and abnormal');\n",
    "# plt.show()"
   ]
  },
  {
   "cell_type": "code",
   "execution_count": 32,
   "metadata": {},
   "outputs": [
    {
     "name": "stdout",
     "output_type": "stream",
     "text": [
      "(900, 3325) (900, 1) (900,)\n"
     ]
    }
   ],
   "source": [
    "X_train, train_label, y_train = Th.manage_imbalance(X_train, train_label, y_train)\n",
    "print(X_train.shape, train_label.shape, y_train.shape)"
   ]
  },
  {
   "cell_type": "markdown",
   "metadata": {},
   "source": [
    "# Model"
   ]
  },
  {
   "cell_type": "code",
   "execution_count": 33,
   "metadata": {},
   "outputs": [
    {
     "name": "stdout",
     "output_type": "stream",
     "text": [
      "Learning rate set to 0.040267\n",
      "0:\tlearn: 1.1790341\ttotal: 257ms\tremaining: 4m 16s\n",
      "250:\tlearn: 0.4725515\ttotal: 46.6s\tremaining: 2m 19s\n",
      "500:\tlearn: 0.2073539\ttotal: 1m 34s\tremaining: 1m 34s\n",
      "750:\tlearn: 0.1052676\ttotal: 2m 25s\tremaining: 48.4s\n",
      "999:\tlearn: 0.0529713\ttotal: 3m 17s\tremaining: 0us\n"
     ]
    },
    {
     "data": {
      "text/plain": [
       "<catboost.core.CatBoostRegressor at 0x1f2449e9e10>"
      ]
     },
     "execution_count": 33,
     "metadata": {},
     "output_type": "execute_result"
    }
   ],
   "source": [
    "le = LabelEncoder()\n",
    "svr_model = SVR(C=0.09, kernel='sigmoid')\n",
    "bayes_model = BayesianRidge()\n",
    "cat_model = CatBoostRegressor()\n",
    "xgbr_model = XGBRegressor()\n",
    "random_forest_model = RandomForestRegressor()\n",
    "\n",
    "svr_model.fit(X_train, y_train)\n",
    "bayes_model.fit(X_train, y_train)\n",
    "xgbr_model.fit(X_train, y_train)\n",
    "random_forest_model.fit(X_train, y_train)\n",
    "cat_model.fit(X_train, y_train, verbose=250)"
   ]
  },
  {
   "cell_type": "code",
   "execution_count": 34,
   "metadata": {},
   "outputs": [],
   "source": [
    "def my_pred(pred, threshold=2):\n",
    "    return (pred >= threshold).astype(int)"
   ]
  },
  {
   "cell_type": "code",
   "execution_count": 35,
   "metadata": {},
   "outputs": [],
   "source": [
    "y = test_label.factorize()[0]\n",
    "models ={ \n",
    "        'SVR': svr_model, \n",
    "        'Cat': cat_model,\n",
    "        'XGBR' : xgbr_model,\n",
    "        'Bayesian Ridge' : bayes_model,\n",
    "        'Random Forest': random_forest_model,\n",
    "}\n",
    "\n",
    "min_threshold = 0\n",
    "max_threshold = 100\n",
    "steps = 1\n",
    "if time_t < 150:\n",
    "        max_threshold = 300\n",
    "        steps = 100\n",
    "elif time_t == 30:      \n",
    "        min_threshold = 0\n",
    "        max_threshold = 3000\n",
    "        steps = 1000\n",
    "        \n",
    "min_threshold = 0\n",
    "max_threshold = 3000\n",
    "steps = 1000\n",
    "\n",
    "results = pd.DataFrame(columns=['Model', 'F1', 'Threshold', 'Accurancy'])\n",
    "for i in range(min_threshold, max_threshold):\n",
    "    for name, model in models.items():\n",
    "        pred = my_pred(model.predict(X_test), threshold=i/steps)\n",
    "        accur = accuracy_score(y, pred)\n",
    "        tmp_df = pd.DataFrame([[name, f1_score(y, pred, average=None)[0], i/steps, accur]], columns=['Model', 'F1', 'Threshold', 'Accurancy'])\n",
    "        results = pd.concat([results, tmp_df], ignore_index=True)\n",
    "results = results.sort_values(by=['F1', 'Accurancy'], ascending = [False, False])"
   ]
  },
  {
   "cell_type": "code",
   "execution_count": null,
   "metadata": {},
   "outputs": [
    {
     "name": "stdout",
     "output_type": "stream",
     "text": [
      "Detection time: 15\n"
     ]
    },
    {
     "data": {
      "text/html": [
       "<div>\n",
       "<style scoped>\n",
       "    .dataframe tbody tr th:only-of-type {\n",
       "        vertical-align: middle;\n",
       "    }\n",
       "\n",
       "    .dataframe tbody tr th {\n",
       "        vertical-align: top;\n",
       "    }\n",
       "\n",
       "    .dataframe thead th {\n",
       "        text-align: right;\n",
       "    }\n",
       "</style>\n",
       "<table border=\"1\" class=\"dataframe\">\n",
       "  <thead>\n",
       "    <tr style=\"text-align: right;\">\n",
       "      <th></th>\n",
       "      <th>Model</th>\n",
       "      <th>F1</th>\n",
       "      <th>Threshold</th>\n",
       "      <th>Accurancy</th>\n",
       "    </tr>\n",
       "  </thead>\n",
       "  <tbody>\n",
       "    <tr>\n",
       "      <th>0</th>\n",
       "      <td>SVR</td>\n",
       "      <td>0.869396</td>\n",
       "      <td>0.513</td>\n",
       "      <td>0.776667</td>\n",
       "    </tr>\n",
       "    <tr>\n",
       "      <th>1</th>\n",
       "      <td>Bayesian Ridge</td>\n",
       "      <td>0.857143</td>\n",
       "      <td>2.177</td>\n",
       "      <td>0.750000</td>\n",
       "    </tr>\n",
       "    <tr>\n",
       "      <th>2</th>\n",
       "      <td>Random Forest</td>\n",
       "      <td>0.857143</td>\n",
       "      <td>2.624</td>\n",
       "      <td>0.750000</td>\n",
       "    </tr>\n",
       "    <tr>\n",
       "      <th>3</th>\n",
       "      <td>XGBR</td>\n",
       "      <td>0.857143</td>\n",
       "      <td>2.686</td>\n",
       "      <td>0.750000</td>\n",
       "    </tr>\n",
       "    <tr>\n",
       "      <th>4</th>\n",
       "      <td>Cat</td>\n",
       "      <td>0.854962</td>\n",
       "      <td>2.446</td>\n",
       "      <td>0.750000</td>\n",
       "    </tr>\n",
       "  </tbody>\n",
       "</table>\n",
       "</div>"
      ],
      "text/plain": [
       "            Model        F1  Threshold  Accurancy\n",
       "0             SVR  0.869396      0.513   0.776667\n",
       "1  Bayesian Ridge  0.857143      2.177   0.750000\n",
       "2   Random Forest  0.857143      2.624   0.750000\n",
       "3            XGBR  0.857143      2.686   0.750000\n",
       "4             Cat  0.854962      2.446   0.750000"
      ]
     },
     "execution_count": 20,
     "metadata": {},
     "output_type": "execute_result"
    }
   ],
   "source": [
    "# Write a Summary of the findings for recording purposes\n",
    "print('Detection time:', time_t)\n",
    "top_models = []\n",
    "summary = pd.DataFrame(columns=['Model', 'F1', 'Threshold', 'Accurancy'])\n",
    "i = 0\n",
    "while len(top_models) < len(models):\n",
    "    if results.iloc[i]['Model'] not in top_models:\n",
    "        accur = accuracy_score(y, my_pred(svr_model.predict(X_test), threshold=results.iloc[i]['Threshold']))\n",
    "        tmp_df = pd.DataFrame([[results.iloc[i]['Model'], results.iloc[i]['F1'], results.iloc[i]['Threshold'], accur]], \n",
    "            columns=['Model', 'F1', 'Threshold', 'Accurancy'])\n",
    "        summary = pd.concat([summary, tmp_df], ignore_index=True)\n",
    "        top_models.append(results.iloc[i]['Model'])\n",
    "\n",
    "        if results.iloc[i]['Model'] == 'SVR':\n",
    "            threshold = results.iloc[i]['Threshold']\n",
    "    i += 1\n",
    "summary"
   ]
  },
  {
   "cell_type": "code",
   "execution_count": null,
   "metadata": {},
   "outputs": [
    {
     "name": "stdout",
     "output_type": "stream",
     "text": [
      "sklearn RMSE: 0.47258156262526085 My RMSE: 0.47258156262526085\n"
     ]
    }
   ],
   "source": [
    "mse = mean_squared_error(y, my_pred(svr_model.predict(X_test), threshold=threshold))  \n",
    "rmse = math.sqrt(mse)\n",
    "\n",
    "\n",
    "my_rms = np.square(np.subtract(y, my_pred(svr_model.predict(X_test), threshold=threshold))).mean()   \n",
    "my_rmse = math.sqrt(my_rms) \n",
    "\n",
    "print('sklearn RMSE:', rmse, 'My RMSE:', my_rmse)"
   ]
  },
  {
   "cell_type": "code",
   "execution_count": null,
   "metadata": {},
   "outputs": [
    {
     "name": "stdout",
     "output_type": "stream",
     "text": [
      "Detected time: 15\n"
     ]
    },
    {
     "data": {
      "text/html": [
       "<div>\n",
       "<style scoped>\n",
       "    .dataframe tbody tr th:only-of-type {\n",
       "        vertical-align: middle;\n",
       "    }\n",
       "\n",
       "    .dataframe tbody tr th {\n",
       "        vertical-align: top;\n",
       "    }\n",
       "\n",
       "    .dataframe thead th {\n",
       "        text-align: right;\n",
       "    }\n",
       "</style>\n",
       "<table border=\"1\" class=\"dataframe\">\n",
       "  <thead>\n",
       "    <tr style=\"text-align: right;\">\n",
       "      <th></th>\n",
       "      <th>Model</th>\n",
       "      <th>F1</th>\n",
       "      <th>Threshold</th>\n",
       "      <th>Accurancy</th>\n",
       "    </tr>\n",
       "  </thead>\n",
       "  <tbody>\n",
       "    <tr>\n",
       "      <th>2565</th>\n",
       "      <td>SVR</td>\n",
       "      <td>0.869396</td>\n",
       "      <td>0.513</td>\n",
       "      <td>0.776667</td>\n",
       "    </tr>\n",
       "    <tr>\n",
       "      <th>2570</th>\n",
       "      <td>SVR</td>\n",
       "      <td>0.869396</td>\n",
       "      <td>0.514</td>\n",
       "      <td>0.776667</td>\n",
       "    </tr>\n",
       "    <tr>\n",
       "      <th>2575</th>\n",
       "      <td>SVR</td>\n",
       "      <td>0.869396</td>\n",
       "      <td>0.515</td>\n",
       "      <td>0.776667</td>\n",
       "    </tr>\n",
       "    <tr>\n",
       "      <th>2640</th>\n",
       "      <td>SVR</td>\n",
       "      <td>0.868217</td>\n",
       "      <td>0.528</td>\n",
       "      <td>0.773333</td>\n",
       "    </tr>\n",
       "    <tr>\n",
       "      <th>2645</th>\n",
       "      <td>SVR</td>\n",
       "      <td>0.868217</td>\n",
       "      <td>0.529</td>\n",
       "      <td>0.773333</td>\n",
       "    </tr>\n",
       "    <tr>\n",
       "      <th>...</th>\n",
       "      <td>...</td>\n",
       "      <td>...</td>\n",
       "      <td>...</td>\n",
       "      <td>...</td>\n",
       "    </tr>\n",
       "    <tr>\n",
       "      <th>2699</th>\n",
       "      <td>Random Forest</td>\n",
       "      <td>0.000000</td>\n",
       "      <td>0.539</td>\n",
       "      <td>0.250000</td>\n",
       "    </tr>\n",
       "    <tr>\n",
       "      <th>2704</th>\n",
       "      <td>Random Forest</td>\n",
       "      <td>0.000000</td>\n",
       "      <td>0.540</td>\n",
       "      <td>0.250000</td>\n",
       "    </tr>\n",
       "    <tr>\n",
       "      <th>2709</th>\n",
       "      <td>Random Forest</td>\n",
       "      <td>0.000000</td>\n",
       "      <td>0.541</td>\n",
       "      <td>0.250000</td>\n",
       "    </tr>\n",
       "    <tr>\n",
       "      <th>2714</th>\n",
       "      <td>Random Forest</td>\n",
       "      <td>0.000000</td>\n",
       "      <td>0.542</td>\n",
       "      <td>0.250000</td>\n",
       "    </tr>\n",
       "    <tr>\n",
       "      <th>2719</th>\n",
       "      <td>Random Forest</td>\n",
       "      <td>0.000000</td>\n",
       "      <td>0.543</td>\n",
       "      <td>0.250000</td>\n",
       "    </tr>\n",
       "  </tbody>\n",
       "</table>\n",
       "<p>15000 rows × 4 columns</p>\n",
       "</div>"
      ],
      "text/plain": [
       "              Model        F1  Threshold  Accurancy\n",
       "2565            SVR  0.869396      0.513   0.776667\n",
       "2570            SVR  0.869396      0.514   0.776667\n",
       "2575            SVR  0.869396      0.515   0.776667\n",
       "2640            SVR  0.868217      0.528   0.773333\n",
       "2645            SVR  0.868217      0.529   0.773333\n",
       "...             ...       ...        ...        ...\n",
       "2699  Random Forest  0.000000      0.539   0.250000\n",
       "2704  Random Forest  0.000000      0.540   0.250000\n",
       "2709  Random Forest  0.000000      0.541   0.250000\n",
       "2714  Random Forest  0.000000      0.542   0.250000\n",
       "2719  Random Forest  0.000000      0.543   0.250000\n",
       "\n",
       "[15000 rows x 4 columns]"
      ]
     },
     "execution_count": 22,
     "metadata": {},
     "output_type": "execute_result"
    }
   ],
   "source": [
    "# Write details of the findings\n",
    "pd.set_option('display.max_rows', 20)\n",
    "print('Detected time:', time_t)\n",
    "results"
   ]
  },
  {
   "cell_type": "code",
   "execution_count": null,
   "metadata": {},
   "outputs": [
    {
     "data": {
      "image/png": "[encoded data removed]",
      "text/plain": [
       "<Figure size 640x480 with 2 Axes>"
      ]
     },
     "metadata": {},
     "output_type": "display_data"
    }
   ],
   "source": [
    "# plt.figure(figsize=(10,7))\n",
    "# sns.set(font_scale=1.4) # for label size\n",
    "# sns.heatmap(confusion_matrix(y, my_pred(svr_model.predict(X_test), threshold=threshold)), annot=True, annot_kws={\"size\": 16}, cmap='RdYlBu_r', fmt='g')\n",
    "# plt.xlabel('Actual labels')\n",
    "# plt.ylabel('Predicted labels')\n",
    "# plt.title('Confusion Matrix')\n",
    "# plt.show()\n",
    "\n",
    "\n",
    "import matplotlib.pyplot as plt\n",
    "import numpy\n",
    "from sklearn import metrics\n",
    "\n",
    "cm = confusion_matrix(y, my_pred(svr_model.predict(X_test), threshold=threshold))\n",
    "cm_display = metrics.ConfusionMatrixDisplay(confusion_matrix = cm, display_labels = [1, 0], )\n",
    "cm_display.plot()\n",
    "plt.title(f'Confusion Matrix for SVR model at {time_t} seconds')\n",
    "plt.show()"
   ]
  },
  {
   "cell_type": "code",
   "execution_count": null,
   "metadata": {},
   "outputs": [
    {
     "name": "stdout",
     "output_type": "stream",
     "text": [
      "Precision:  0.7743055555555556\n",
      "Recall:     0.9911111111111112\n",
      "My implementation F1:    0.8693957115009747\n",
      "Sklearn implementation:  0.8693957115009747\n"
     ]
    }
   ],
   "source": [
    "# Compare sklearn F1-Score calculations with my implememtation\n",
    "def recall(matrix):\n",
    "    [tp, fp], [fn, tn] = matrix\n",
    "    return tp/(tp+fp)\n",
    "\n",
    "def precision(matrix):\n",
    "    [tp, fp], [fn, tn] = matrix\n",
    "    return tp/(tp+fn)\n",
    "\n",
    "def f1(matrix):\n",
    "    return 2 * precision(matrix) * recall(matrix)/(precision(matrix)+recall(matrix))\n",
    "\n",
    "print('Precision: ', precision(confusion_matrix(y, my_pred(svr_model.predict(X_test), threshold=threshold))))\n",
    "print('Recall:    ', recall(confusion_matrix(y, my_pred(svr_model.predict(X_test), threshold=threshold))))\n",
    "print('My implementation F1:   ', f1(confusion_matrix(y, my_pred(svr_model.predict(X_test), threshold=threshold))))\n",
    "print('Sklearn implementation: ', f1_score(y, my_pred(svr_model.predict(X_test), threshold=threshold), average=None)[0])\n"
   ]
  },
  {
   "cell_type": "code",
   "execution_count": null,
   "metadata": {},
   "outputs": [
    {
     "name": "stdout",
     "output_type": "stream",
     "text": [
      "              precision    recall  f1-score   support\n",
      "\n",
      "           0       0.77      0.99      0.87       225\n",
      "           1       0.83      0.13      0.23        75\n",
      "\n",
      "    accuracy                           0.78       300\n",
      "   macro avg       0.80      0.56      0.55       300\n",
      "weighted avg       0.79      0.78      0.71       300\n",
      "\n"
     ]
    }
   ],
   "source": [
    "print(classification_report(y, my_pred(svr_model.predict(X_test), threshold=threshold)))"
   ]
  }
 ],
 "metadata": {
  "kernelspec": {
   "display_name": "Python 3.10.4 64-bit",
   "language": "python",
   "name": "python3"
  },
  "language_info": {
   "codemirror_mode": {
    "name": "ipython",
    "version": 3
   },
   "file_extension": ".py",
   "mimetype": "text/x-python",
   "name": "python",
   "nbconvert_exporter": "python",
   "pygments_lexer": "ipython3",
   "version": "3.10.4"
  },
  "orig_nbformat": 4,
  "vscode": {
   "interpreter": {
    "hash": "b9a835786e4b292c706b02c5f0c0d04bbb49ad49fa1f9725076fb3ae007836b0"
   }
  }
 },
 "nbformat": 4,
 "nbformat_minor": 2
}
